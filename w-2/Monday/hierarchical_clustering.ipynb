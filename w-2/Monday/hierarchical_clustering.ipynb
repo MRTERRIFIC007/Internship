{
  "cells": [
    {
      "cell_type": "raw",
      "metadata": {
        "vscode": {
          "languageId": "raw"
        }
      },
      "source": [
        "# Hierarchical Clustering Implementation\n",
        "\n",
        "## Learning Objectives\n",
        "- Understand agglomerative and divisive hierarchical clustering\n",
        "- Implement different linkage criteria (single, complete, average, Ward)\n",
        "- Create and interpret dendrograms\n",
        "- Determine optimal number of clusters\n",
        "- Apply hierarchical clustering to real datasets\n",
        "\n",
        "## Theory Overview\n",
        "\n",
        "Hierarchical clustering creates a tree-like structure of clusters:\n",
        "- **Agglomerative**: Bottom-up approach, starts with individual points\n",
        "- **Divisive**: Top-down approach, starts with all points in one cluster\n",
        "\n",
        "### Linkage Criteria:\n",
        "1. **Single Linkage**: Distance between closest points\n",
        "2. **Complete Linkage**: Distance between farthest points  \n",
        "3. **Average Linkage**: Average distance between all pairs\n",
        "4. **Ward Linkage**: Minimizes within-cluster variance\n"
      ]
    },
    {
      "cell_type": "code",
      "execution_count": null,
      "metadata": {},
      "outputs": [],
      "source": [
        "# Import necessary libraries\n",
        "import numpy as np\n",
        "import pandas as pd\n",
        "import matplotlib.pyplot as plt\n",
        "import seaborn as sns\n",
        "from scipy.cluster.hierarchy import dendrogram, linkage, fcluster, cut_tree\n",
        "from scipy.spatial.distance import pdist, squareform\n",
        "from sklearn.datasets import make_blobs, load_iris, load_wine\n",
        "from sklearn.preprocessing import StandardScaler\n",
        "from sklearn.cluster import AgglomerativeClustering\n",
        "from sklearn.metrics import adjusted_rand_score, silhouette_score\n",
        "import warnings\n",
        "warnings.filterwarnings('ignore')\n",
        "\n",
        "# Set random seed for reproducibility\n",
        "np.random.seed(42)\n",
        "\n",
        "print(\"Libraries imported successfully!\")\n"
      ]
    },
    {
      "cell_type": "raw",
      "metadata": {
        "vscode": {
          "languageId": "raw"
        }
      },
      "source": [
        "## Dataset Preparation\n",
        "\n",
        "Let's create synthetic data and use real datasets to demonstrate hierarchical clustering.\n"
      ]
    },
    {
      "cell_type": "code",
      "execution_count": null,
      "metadata": {},
      "outputs": [],
      "source": [
        "# 1. Create synthetic dataset\n",
        "X_synthetic, y_true = make_blobs(\n",
        "    n_samples=150, \n",
        "    centers=4, \n",
        "    n_features=2, \n",
        "    cluster_std=1.5, \n",
        "    random_state=42\n",
        ")\n",
        "\n",
        "# 2. Load Iris dataset\n",
        "iris = load_iris()\n",
        "X_iris = iris.data\n",
        "y_iris = iris.target\n",
        "iris_feature_names = iris.feature_names\n",
        "\n",
        "# 3. Load Wine dataset\n",
        "wine = load_wine()\n",
        "X_wine = wine.data\n",
        "y_wine = wine.target\n",
        "wine_feature_names = wine.feature_names\n",
        "\n",
        "print(\"Dataset shapes:\")\n",
        "print(f\"Synthetic: {X_synthetic.shape}\")\n",
        "print(f\"Iris: {X_iris.shape}\")\n",
        "print(f\"Wine: {X_wine.shape}\")\n",
        "\n",
        "# Visualize synthetic data\n",
        "plt.figure(figsize=(12, 4))\n",
        "\n",
        "plt.subplot(1, 3, 1)\n",
        "scatter = plt.scatter(X_synthetic[:, 0], X_synthetic[:, 1], c=y_true, cmap='viridis', alpha=0.7)\n",
        "plt.title('Synthetic Data (True Clusters)')\n",
        "plt.xlabel('Feature 1')\n",
        "plt.ylabel('Feature 2')\n",
        "plt.colorbar(scatter)\n",
        "\n",
        "plt.subplot(1, 3, 2)\n",
        "plt.scatter(X_iris[:, 0], X_iris[:, 1], c=y_iris, cmap='viridis', alpha=0.7)\n",
        "plt.title('Iris Dataset (Sepal Length vs Width)')\n",
        "plt.xlabel('Sepal Length')\n",
        "plt.ylabel('Sepal Width')\n",
        "\n",
        "plt.subplot(1, 3, 3)\n",
        "plt.scatter(X_wine[:, 0], X_wine[:, 1], c=y_wine, cmap='viridis', alpha=0.7)\n",
        "plt.title('Wine Dataset (First 2 Features)')\n",
        "plt.xlabel('Alcohol')\n",
        "plt.ylabel('Malic Acid')\n",
        "\n",
        "plt.tight_layout()\n",
        "plt.show()\n"
      ]
    },
    {
      "cell_type": "raw",
      "metadata": {
        "vscode": {
          "languageId": "raw"
        }
      },
      "source": [
        "## Understanding Linkage Criteria\n",
        "\n",
        "Let's explore different linkage methods and their effects on clustering.\n"
      ]
    },
    {
      "cell_type": "code",
      "execution_count": null,
      "metadata": {},
      "outputs": [],
      "source": [
        "# Compare different linkage methods using synthetic data\n",
        "linkage_methods = ['single', 'complete', 'average', 'ward']\n",
        "\n",
        "fig, axes = plt.subplots(2, 4, figsize=(20, 10))\n",
        "\n",
        "for i, method in enumerate(linkage_methods):\n",
        "    # Compute linkage matrix\n",
        "    Z = linkage(X_synthetic, method=method)\n",
        "    \n",
        "    # Create dendrogram\n",
        "    axes[0, i].set_title(f'{method.capitalize()} Linkage Dendrogram')\n",
        "    dendrogram(Z, ax=axes[0, i], leaf_rotation=90)\n",
        "    axes[0, i].set_xlabel('Sample Index')\n",
        "    axes[0, i].set_ylabel('Distance')\n",
        "    \n",
        "    # Get cluster labels (using 4 clusters)\n",
        "    clusters = fcluster(Z, 4, criterion='maxclust')\n",
        "    \n",
        "    # Plot clusters\n",
        "    scatter = axes[1, i].scatter(X_synthetic[:, 0], X_synthetic[:, 1], \n",
        "                                c=clusters, cmap='viridis', alpha=0.7)\n",
        "    axes[1, i].set_title(f'{method.capitalize()} Linkage Clusters')\n",
        "    axes[1, i].set_xlabel('Feature 1')\n",
        "    axes[1, i].set_ylabel('Feature 2')\n",
        "    \n",
        "    # Calculate silhouette score\n",
        "    sil_score = silhouette_score(X_synthetic, clusters)\n",
        "    axes[1, i].text(0.02, 0.98, f'Silhouette: {sil_score:.3f}', \n",
        "                   transform=axes[1, i].transAxes, verticalalignment='top',\n",
        "                   bbox=dict(boxstyle='round', facecolor='white', alpha=0.8))\n",
        "\n",
        "plt.tight_layout()\n",
        "plt.show()\n",
        "\n",
        "# Print comparison of linkage methods\n",
        "print(\"Linkage Method Comparison:\")\n",
        "print(\"=\"*50)\n",
        "for method in linkage_methods:\n",
        "    Z = linkage(X_synthetic, method=method)\n",
        "    clusters = fcluster(Z, 4, criterion='maxclust')\n",
        "    sil_score = silhouette_score(X_synthetic, clusters)\n",
        "    ari_score = adjusted_rand_score(y_true, clusters)\n",
        "    print(f\"{method.capitalize():>10}: Silhouette={sil_score:.3f}, ARI={ari_score:.3f}\")\n"
      ]
    }
  ],
  "metadata": {
    "language_info": {
      "name": "python"
    }
  },
  "nbformat": 4,
  "nbformat_minor": 2
}
