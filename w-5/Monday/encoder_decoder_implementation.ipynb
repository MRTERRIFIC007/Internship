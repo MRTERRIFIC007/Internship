{
  "cells": [
    {
      "cell_type": "raw",
      "metadata": {
        "vscode": {
          "languageId": "raw"
        }
      },
      "source": [
        "# Building Your First Encoder-Decoder Model\n",
        "\n",
        "## Learning Objectives\n",
        "- Implement encoder and decoder networks from scratch\n",
        "- Understand LSTM-based sequence processing\n",
        "- Learn about embedding layers and vocabulary handling\n",
        "- Create a complete encoder-decoder architecture\n",
        "- Understand the role of hidden states in sequence modeling\n",
        "\n",
        "## Today's Implementation Plan\n",
        "1. **Basic Components**: Embedding layers, LSTM encoder, LSTM decoder\n",
        "2. **Architecture Design**: How encoder and decoder connect\n",
        "3. **Forward Pass**: Data flow through the complete model\n",
        "4. **Vocabulary Management**: Token-to-index mapping\n",
        "\n",
        "This notebook provides hands-on implementation of the encoder-decoder concept we learned about in the fundamentals.\n"
      ]
    },
    {
      "cell_type": "code",
      "execution_count": null,
      "metadata": {},
      "outputs": [],
      "source": [
        "import torch\n",
        "import torch.nn as nn\n",
        "import torch.nn.functional as F\n",
        "import torch.optim as optim\n",
        "import numpy as np\n",
        "import matplotlib.pyplot as plt\n",
        "import seaborn as sns\n",
        "from collections import defaultdict, Counter\n",
        "import random\n",
        "\n",
        "# Set random seeds for reproducibility\n",
        "torch.manual_seed(42)\n",
        "np.random.seed(42)\n",
        "random.seed(42)\n",
        "\n",
        "device = torch.device('cuda' if torch.cuda.is_available() else 'cpu')\n",
        "print(f\"Using device: {device}\")\n",
        "\n",
        "# Plotting setup\n",
        "plt.style.use('seaborn-v0_8')\n",
        "sns.set_palette(\"husl\")\n"
      ]
    },
    {
      "cell_type": "raw",
      "metadata": {
        "vscode": {
          "languageId": "raw"
        }
      },
      "source": [
        "## Step 1: Building the Vocabulary System\n",
        "\n",
        "Before we can build our model, we need a way to convert text into numbers that our neural network can process.\n"
      ]
    },
    {
      "cell_type": "code",
      "execution_count": null,
      "metadata": {},
      "outputs": [],
      "source": [
        "# Complete Vocabulary class for handling word-to-index conversions\n",
        "class Vocabulary:\n",
        "    \"\"\"Handles conversion between words and indices\"\"\"\n",
        "    \n",
        "    def __init__(self):\n",
        "        self.word2idx = {}\n",
        "        self.idx2word = {}\n",
        "        self.word_count = Counter()\n",
        "        \n",
        "        # Special tokens and their indices\n",
        "        self.PAD_TOKEN = '<PAD>'\n",
        "        self.SOS_TOKEN = '\n"
      ]
    },
    {
      "cell_type": "code",
      "execution_count": null,
      "metadata": {},
      "outputs": [],
      "source": [
        "class Vocabulary:\n",
        "    \"\"\"Handles conversion between words and indices\"\"\"\n",
        "    \n",
        "    def __init__(self):\n",
        "        self.word2idx = {}\n",
        "        self.idx2word = {}\n",
        "        self.word_count = Counter()\n",
        "        \n",
        "        # Special tokens\n",
        "        self.PAD_TOKEN = '<PAD>'\n",
        "        self.SOS_TOKEN = '\n"
      ]
    }
  ],
  "metadata": {
    "language_info": {
      "name": "python"
    }
  },
  "nbformat": 4,
  "nbformat_minor": 2
}
