{
  "cells": [
    {
      "cell_type": "raw",
      "metadata": {
        "vscode": {
          "languageId": "raw"
        }
      },
      "source": [
        "# Data Types and Structures\n",
        "\n",
        "This notebook explores different data types and structures commonly used in data science.\n"
      ]
    },
    {
      "cell_type": "raw",
      "metadata": {
        "vscode": {
          "languageId": "raw"
        }
      },
      "source": [
        "## Structured vs Unstructured Data\n",
        "\n",
        "### Structured Data\n",
        "- Organized in a predefined format\n",
        "- Easily searchable\n",
        "- Examples: SQL databases, CSV files, Excel spreadsheets\n",
        "- Usually stored in rows and columns\n",
        "\n",
        "### Unstructured Data\n",
        "- No predefined format or organization\n",
        "- Difficult to search and analyze using traditional methods\n",
        "- Examples: text documents, images, videos, social media posts\n",
        "- Requires specialized techniques for analysis\n",
        "\n",
        "### Semi-structured Data\n",
        "- Has some organizational properties but not rigid schema\n",
        "- Examples: JSON, XML, HTML\n",
        "- Combines flexibility and some structure\n"
      ]
    },
    {
      "cell_type": "code",
      "execution_count": null,
      "metadata": {},
      "outputs": [],
      "source": [
        "# Import necessary libraries\n",
        "import numpy as np\n",
        "import pandas as pd\n",
        "import json\n",
        "import xml.etree.ElementTree as ET\n",
        "import sqlite3\n",
        "import os\n",
        "\n",
        "print(\"Libraries imported successfully!\")\n"
      ]
    },
    {
      "cell_type": "raw",
      "metadata": {
        "vscode": {
          "languageId": "raw"
        }
      },
      "source": [
        "## Working with CSV Files\n"
      ]
    },
    {
      "cell_type": "code",
      "execution_count": null,
      "metadata": {},
      "outputs": [],
      "source": [
        "# Create a sample CSV file\n",
        "csv_data = '''id,name,age,city,salary\n",
        "1,John Smith,34,New York,75000\n",
        "2,Sarah Johnson,28,San Francisco,82000\n",
        "3,Michael Brown,45,Chicago,65000\n",
        "4,Emily Davis,31,Boston,78000\n",
        "5,Robert Wilson,39,Seattle,90000\n",
        "'''\n",
        "\n",
        "# Write to CSV file\n",
        "with open('sample_data.csv', 'w') as f:\n",
        "    f.write(csv_data)\n",
        "\n",
        "# Read CSV with pandas\n",
        "df_csv = pd.read_csv('sample_data.csv')\n",
        "print(\"CSV Data:\")\n",
        "print(df_csv.head())\n",
        "print(\"\\nData Types:\")\n",
        "print(df_csv.dtypes)\n",
        "print(\"\\nBasic Statistics:\")\n",
        "print(df_csv.describe())\n"
      ]
    },
    {
      "cell_type": "raw",
      "metadata": {
        "vscode": {
          "languageId": "raw"
        }
      },
      "source": [
        "## Working with JSON Data\n"
      ]
    },
    {
      "cell_type": "code",
      "execution_count": null,
      "metadata": {},
      "outputs": [],
      "source": [
        "# Create sample JSON data\n",
        "json_data = {\n",
        "    \"employees\": [\n",
        "        {\n",
        "            \"id\": 1,\n",
        "            \"name\": \"John Smith\",\n",
        "            \"details\": {\n",
        "                \"age\": 34,\n",
        "                \"position\": \"Software Engineer\",\n",
        "                \"department\": \"Engineering\",\n",
        "                \"skills\": [\"Python\", \"JavaScript\", \"Docker\"]\n",
        "            },\n",
        "            \"projects\": [\n",
        "                {\"name\": \"Project A\", \"status\": \"Completed\"},\n",
        "                {\"name\": \"Project B\", \"status\": \"In Progress\"}\n",
        "            ]\n",
        "        },\n",
        "        {\n",
        "            \"id\": 2,\n",
        "            \"name\": \"Sarah Johnson\",\n",
        "            \"details\": {\n",
        "                \"age\": 28,\n",
        "                \"position\": \"Data Scientist\",\n",
        "                \"department\": \"Analytics\",\n",
        "                \"skills\": [\"Python\", \"R\", \"SQL\", \"Machine Learning\"]\n",
        "            },\n",
        "            \"projects\": [\n",
        "                {\"name\": \"Project C\", \"status\": \"In Progress\"}\n",
        "            ]\n",
        "        }\n",
        "    ],\n",
        "    \"company\": \"Tech Solutions Inc.\"\n",
        "}\n",
        "\n",
        "# Save to JSON file\n",
        "with open('sample_data.json', 'w') as f:\n",
        "    json.dump(json_data, f, indent=4)\n",
        "\n",
        "# Read JSON file\n",
        "with open('sample_data.json', 'r') as f:\n",
        "    loaded_json = json.load(f)\n",
        "\n",
        "print(\"JSON Data Structure:\")\n",
        "print(json.dumps(loaded_json, indent=2))\n",
        "\n",
        "# Convert JSON to DataFrame\n",
        "employees = pd.json_normalize(loaded_json['employees'])\n",
        "print(\"\\nEmployees DataFrame:\")\n",
        "print(employees)\n"
      ]
    },
    {
      "cell_type": "raw",
      "metadata": {
        "vscode": {
          "languageId": "raw"
        }
      },
      "source": [
        "## Working with XML Data\n"
      ]
    },
    {
      "cell_type": "code",
      "execution_count": null,
      "metadata": {},
      "outputs": [],
      "source": [
        "# Create sample XML data\n",
        "xml_data = '''<?xml version=\"1.0\" encoding=\"UTF-8\"?>\n",
        "<bookstore>\n",
        "  <book category=\"Fiction\">\n",
        "    <title>The Great Gatsby</title>\n",
        "    <author>F. Scott Fitzgerald</author>\n",
        "    <year>1925</year>\n",
        "    <price>12.99</price>\n",
        "  </book>\n",
        "  <book category=\"Non-Fiction\">\n",
        "    <title>Sapiens: A Brief History of Humankind</title>\n",
        "    <author>Yuval Noah Harari</author>\n",
        "    <year>2011</year>\n",
        "    <price>15.95</price>\n",
        "  </book>\n",
        "  <book category=\"Science Fiction\">\n",
        "    <title>Dune</title>\n",
        "    <author>Frank Herbert</author>\n",
        "    <year>1965</year>\n",
        "    <price>10.50</price>\n",
        "  </book>\n",
        "</bookstore>\n",
        "'''\n",
        "\n",
        "# Write to XML file\n",
        "with open('sample_data.xml', 'w') as f:\n",
        "    f.write(xml_data)\n",
        "\n",
        "# Parse XML\n",
        "tree = ET.parse('sample_data.xml')\n",
        "root = tree.getroot()\n",
        "\n",
        "# Extract data from XML\n",
        "books = []\n",
        "for book in root.findall('book'):\n",
        "    book_data = {\n",
        "        'category': book.attrib.get('category', ''),\n",
        "        'title': book.find('title').text if book.find('title') is not None else '',\n",
        "        'author': book.find('author').text if book.find('author') is not None else '',\n",
        "        'year': book.find('year').text if book.find('year') is not None else '',\n",
        "        'price': book.find('price').text if book.find('price') is not None else ''\n",
        "    }\n",
        "    books.append(book_data)\n",
        "\n",
        "# Convert to DataFrame\n",
        "df_xml = pd.DataFrame(books)\n",
        "print(\"XML Data as DataFrame:\")\n",
        "print(df_xml)\n"
      ]
    },
    {
      "cell_type": "raw",
      "metadata": {
        "vscode": {
          "languageId": "raw"
        }
      },
      "source": [
        "## Database Connections with Python\n"
      ]
    },
    {
      "cell_type": "code",
      "execution_count": null,
      "metadata": {},
      "outputs": [],
      "source": [
        "# Create SQLite database\n",
        "conn = sqlite3.connect('sample_database.db')\n",
        "cursor = conn.cursor()\n",
        "\n",
        "# Create table\n",
        "cursor.execute('''\n",
        "CREATE TABLE IF NOT EXISTS employees (\n",
        "    id INTEGER PRIMARY KEY,\n",
        "    name TEXT NOT NULL,\n",
        "    department TEXT NOT NULL,\n",
        "    salary REAL,\n",
        "    hire_date TEXT\n",
        ")\n",
        "''')\n",
        "\n",
        "# Insert sample data\n",
        "employees_data = [\n",
        "    (1, 'John Smith', 'Engineering', 75000.00, '2020-03-15'),\n",
        "    (2, 'Sarah Johnson', 'Analytics', 82000.00, '2019-11-10'),\n",
        "    (3, 'Michael Brown', 'Marketing', 65000.00, '2018-06-22'),\n",
        "    (4, 'Emily Davis', 'Engineering', 78000.00, '2021-01-05'),\n",
        "    (5, 'Robert Wilson', 'Analytics', 90000.00, '2017-09-30')\n",
        "]\n",
        "\n",
        "cursor.executemany('''\n",
        "INSERT OR REPLACE INTO employees (id, name, department, salary, hire_date)\n",
        "VALUES (?, ?, ?, ?, ?)\n",
        "''', employees_data)\n",
        "\n",
        "# Commit changes\n",
        "conn.commit()\n",
        "\n",
        "# Query data\n",
        "cursor.execute('SELECT * FROM employees')\n",
        "rows = cursor.fetchall()\n",
        "\n",
        "# Convert to DataFrame\n",
        "df_sql = pd.DataFrame(rows, columns=['id', 'name', 'department', 'salary', 'hire_date'])\n",
        "print(\"Database Query Results:\")\n",
        "print(df_sql)\n",
        "\n",
        "# Close connection\n",
        "conn.close()\n"
      ]
    },
    {
      "cell_type": "raw",
      "metadata": {
        "vscode": {
          "languageId": "raw"
        }
      },
      "source": [
        "## API Data Extraction Basics\n"
      ]
    },
    {
      "cell_type": "code",
      "execution_count": null,
      "metadata": {},
      "outputs": [],
      "source": [
        "'''\n",
        "# Example of API data extraction using requests library\n",
        "import requests\n",
        "\n",
        "# GET request to an API\n",
        "response = requests.get(\"https://api.example.com/data\")\n",
        "\n",
        "# Check if request was successful\n",
        "if response.status_code == 200:\n",
        "    # Parse JSON response\n",
        "    data = response.json()\n",
        "    \n",
        "    # Convert to DataFrame\n",
        "    df = pd.DataFrame(data)\n",
        "    \n",
        "    # Process and analyze data\n",
        "    # ...\n",
        "\n",
        "# POST request with parameters\n",
        "params = {\n",
        "    \"key1\": \"value1\",\n",
        "    \"key2\": \"value2\"\n",
        "}\n",
        "response = requests.post(\"https://api.example.com/submit\", json=params)\n",
        "\n",
        "# Authentication example\n",
        "headers = {\n",
        "    \"Authorization\": \"Bearer YOUR_API_TOKEN\"\n",
        "}\n",
        "response = requests.get(\"https://api.example.com/protected\", headers=headers)\n",
        "'''\n",
        "\n",
        "print(\"API extraction code examples ready for reference!\")\n",
        "\n",
        "# Simulated API response for demonstration\n",
        "simulated_api_response = {\n",
        "    \"results\": [\n",
        "        {\"id\": 1, \"name\": \"Product A\", \"category\": \"Electronics\", \"price\": 499.99},\n",
        "        {\"id\": 2, \"name\": \"Product B\", \"category\": \"Clothing\", \"price\": 29.99},\n",
        "        {\"id\": 3, \"name\": \"Product C\", \"category\": \"Home\", \"price\": 149.99},\n",
        "        {\"id\": 4, \"name\": \"Product D\", \"category\": \"Electronics\", \"price\": 999.99},\n",
        "        {\"id\": 5, \"name\": \"Product E\", \"category\": \"Clothing\", \"price\": 59.99}\n",
        "    ],\n",
        "    \"total\": 5,\n",
        "    \"page\": 1,\n",
        "    \"pages\": 1\n",
        "}\n",
        "\n",
        "# Process the simulated API data\n",
        "df_api = pd.DataFrame(simulated_api_response[\"results\"])\n",
        "print(\"Simulated API Data:\")\n",
        "print(df_api)\n"
      ]
    },
    {
      "cell_type": "raw",
      "metadata": {
        "vscode": {
          "languageId": "raw"
        }
      },
      "source": [
        "## Summary\n",
        "\n",
        "In this notebook, I've explored:\n",
        "\n",
        "1. Structured vs Unstructured data concepts\n",
        "2. Working with CSV files using pandas\n",
        "3. Handling JSON data and nested structures\n",
        "4. Parsing XML data\n",
        "5. Database connections with SQLite\n",
        "6. API data extraction basics\n",
        "\n",
        "These skills form the foundation for data preprocessing and analysis tasks that I'll be working on throughout this internship.\n"
      ]
    }
  ],
  "metadata": {
    "language_info": {
      "name": "python"
    }
  },
  "nbformat": 4,
  "nbformat_minor": 2
}
