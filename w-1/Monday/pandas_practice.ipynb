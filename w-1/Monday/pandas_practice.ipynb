{
  "cells": [
    {
      "cell_type": "raw",
      "metadata": {
        "vscode": {
          "languageId": "raw"
        }
      },
      "source": [
        "# Pandas Fundamentals\n",
        "\n",
        "This notebook covers the basics of pandas for data manipulation and analysis.\n"
      ]
    },
    {
      "cell_type": "code",
      "execution_count": null,
      "metadata": {},
      "outputs": [],
      "source": [
        "# Import pandas and numpy\n",
        "import pandas as pd\n",
        "import numpy as np\n",
        "import matplotlib.pyplot as plt\n",
        "import seaborn as sns\n",
        "\n",
        "%matplotlib inline\n",
        "plt.style.use('seaborn-whitegrid')\n",
        "sns.set_style(\"whitegrid\")\n",
        "\n",
        "print(\"Libraries imported successfully!\")\n"
      ]
    },
    {
      "cell_type": "raw",
      "metadata": {
        "vscode": {
          "languageId": "raw"
        }
      },
      "source": [
        "## Creating DataFrames and Series\n"
      ]
    },
    {
      "cell_type": "code",
      "execution_count": null,
      "metadata": {},
      "outputs": [],
      "source": [
        "# Creating a Series\n",
        "s = pd.Series([10, 20, 30, 40, 50], index=['a', 'b', 'c', 'd', 'e'])\n",
        "print(\"Pandas Series:\")\n",
        "print(s)\n",
        "print(\"\\nSeries index:\")\n",
        "print(s.index)\n",
        "print(\"\\nSeries values:\")\n",
        "print(s.values)\n",
        "\n",
        "# Creating a DataFrame from a dictionary\n",
        "data = {\n",
        "    'Name': ['John', 'Anna', 'Peter', 'Linda', 'Bob'],\n",
        "    'Age': [28, 34, 29, 42, 37],\n",
        "    'City': ['New York', 'Paris', 'Berlin', 'London', 'Tokyo'],\n",
        "    'Salary': [65000, 70000, 62000, 85000, 72000],\n",
        "    'Department': ['IT', 'HR', 'IT', 'Finance', 'Marketing']\n",
        "}\n",
        "\n",
        "df = pd.DataFrame(data)\n",
        "print(\"\\nDataFrame from dictionary:\")\n",
        "print(df)\n",
        "\n",
        "# Creating a DataFrame from a list of lists\n",
        "data_list = [\n",
        "    ['John', 28, 'New York', 65000, 'IT'],\n",
        "    ['Anna', 34, 'Paris', 70000, 'HR'],\n",
        "    ['Peter', 29, 'Berlin', 62000, 'IT'],\n",
        "    ['Linda', 42, 'London', 85000, 'Finance'],\n",
        "    ['Bob', 37, 'Tokyo', 72000, 'Marketing']\n",
        "]\n",
        "\n",
        "columns = ['Name', 'Age', 'City', 'Salary', 'Department']\n",
        "df2 = pd.DataFrame(data_list, columns=columns)\n",
        "print(\"\\nDataFrame from list of lists:\")\n",
        "print(df2)\n"
      ]
    },
    {
      "cell_type": "raw",
      "metadata": {
        "vscode": {
          "languageId": "raw"
        }
      },
      "source": [
        "## Data Loading and Inspection\n"
      ]
    },
    {
      "cell_type": "code",
      "execution_count": null,
      "metadata": {},
      "outputs": [],
      "source": [
        "# Create a sample CSV file\n",
        "csv_data = '''id,name,age,city,salary,hire_date,department,performance_score\n",
        "1,John Smith,34,New York,75000,2020-03-15,Engineering,4.2\n",
        "2,Sarah Johnson,28,San Francisco,82000,2019-11-10,Analytics,4.5\n",
        "3,Michael Brown,45,Chicago,65000,2018-06-22,Marketing,3.9\n",
        "4,Emily Davis,31,Boston,78000,2021-01-05,Engineering,4.1\n",
        "5,Robert Wilson,39,Seattle,90000,2017-09-30,Analytics,4.7\n",
        "6,Jennifer Lee,33,Austin,72000,2019-04-18,Marketing,4.0\n",
        "7,David Miller,41,Denver,85000,2016-11-08,Engineering,4.3\n",
        "8,Lisa Wang,36,Portland,79000,2018-02-15,Analytics,4.4\n",
        "9,James Taylor,44,Atlanta,68000,2017-07-22,Marketing,3.8\n",
        "10,Amanda Garcia,29,Miami,71000,2020-09-12,Engineering,4.2\n",
        "'''\n",
        "\n",
        "# Write to CSV file\n",
        "with open('employee_data.csv', 'w') as f:\n",
        "    f.write(csv_data)\n",
        "\n",
        "# Load CSV file\n",
        "df = pd.read_csv('employee_data.csv')\n",
        "\n",
        "# Basic inspection\n",
        "print(\"First 5 rows (head):\")\n",
        "print(df.head())\n",
        "\n",
        "print(\"\\nLast 5 rows (tail):\")\n",
        "print(df.tail())\n",
        "\n",
        "print(\"\\nDataFrame shape (rows, columns):\")\n",
        "print(df.shape)\n",
        "\n",
        "print(\"\\nDataFrame info:\")\n",
        "print(df.info())\n",
        "\n",
        "print(\"\\nDataFrame columns:\")\n",
        "print(df.columns)\n",
        "\n",
        "print(\"\\nDataFrame data types:\")\n",
        "print(df.dtypes)\n",
        "\n",
        "print(\"\\nBasic statistics:\")\n",
        "print(df.describe())\n"
      ]
    },
    {
      "cell_type": "raw",
      "metadata": {
        "vscode": {
          "languageId": "raw"
        }
      },
      "source": [
        "## Basic Data Manipulation Operations\n"
      ]
    },
    {
      "cell_type": "code",
      "execution_count": null,
      "metadata": {},
      "outputs": [],
      "source": [
        "# Selecting columns\n",
        "print(\"Selecting a single column:\")\n",
        "print(df['name'])\n",
        "\n",
        "print(\"\\nSelecting multiple columns:\")\n",
        "print(df[['name', 'department', 'salary']])\n",
        "\n",
        "# Filtering rows\n",
        "print(\"\\nFiltering rows where age > 35:\")\n",
        "print(df[df['age'] > 35])\n",
        "\n",
        "print(\"\\nFiltering rows where department is Engineering:\")\n",
        "print(df[df['department'] == 'Engineering'])\n",
        "\n",
        "print(\"\\nComplex filtering (AND condition):\")\n",
        "print(df[(df['age'] > 30) & (df['salary'] > 75000)])\n",
        "\n",
        "print(\"\\nComplex filtering (OR condition):\")\n",
        "print(df[(df['department'] == 'Analytics') | (df['performance_score'] > 4.5)])\n",
        "\n",
        "# Sorting\n",
        "print(\"\\nSorting by age (ascending):\")\n",
        "print(df.sort_values('age'))\n",
        "\n",
        "print(\"\\nSorting by salary (descending):\")\n",
        "print(df.sort_values('salary', ascending=False))\n",
        "\n",
        "print(\"\\nSorting by multiple columns:\")\n",
        "print(df.sort_values(['department', 'salary'], ascending=[True, False]))\n"
      ]
    },
    {
      "cell_type": "raw",
      "metadata": {
        "vscode": {
          "languageId": "raw"
        }
      },
      "source": [
        "## Data Transformation and Aggregation\n"
      ]
    },
    {
      "cell_type": "code",
      "execution_count": null,
      "metadata": {},
      "outputs": [],
      "source": [
        "# Adding a new column\n",
        "df['bonus'] = df['salary'] * df['performance_score'] / 100\n",
        "print(\"DataFrame with new bonus column:\")\n",
        "print(df[['name', 'salary', 'performance_score', 'bonus']].head())\n",
        "\n",
        "# Applying a function to a column\n",
        "def experience_level(age):\n",
        "    if age < 30:\n",
        "        return 'Junior'\n",
        "    elif age < 40:\n",
        "        return 'Mid-level'\n",
        "    else:\n",
        "        return 'Senior'\n",
        "\n",
        "df['experience'] = df['age'].apply(experience_level)\n",
        "print(\"\\nDataFrame with experience level:\")\n",
        "print(df[['name', 'age', 'experience']].head())\n",
        "\n",
        "# Grouping and aggregation\n",
        "print(\"\\nAverage salary by department:\")\n",
        "print(df.groupby('department')['salary'].mean())\n",
        "\n",
        "print(\"\\nMultiple aggregations by department:\")\n",
        "print(df.groupby('department').agg({\n",
        "    'salary': ['mean', 'min', 'max', 'count'],\n",
        "    'age': ['mean', 'min', 'max'],\n",
        "    'performance_score': ['mean']\n",
        "}))\n",
        "\n",
        "print(\"\\nAverage salary and performance score by experience level:\")\n",
        "print(df.groupby('experience').agg({\n",
        "    'salary': 'mean',\n",
        "    'performance_score': 'mean'\n",
        "}))\n"
      ]
    },
    {
      "cell_type": "raw",
      "metadata": {
        "vscode": {
          "languageId": "raw"
        }
      },
      "source": [
        "## Handling Missing Values\n"
      ]
    },
    {
      "cell_type": "code",
      "execution_count": null,
      "metadata": {},
      "outputs": [],
      "source": [
        "# Create a DataFrame with missing values\n",
        "data_missing = df.copy()\n",
        "# Introduce some missing values\n",
        "data_missing.loc[0, 'salary'] = np.nan\n",
        "data_missing.loc[2, 'age'] = np.nan\n",
        "data_missing.loc[4, 'performance_score'] = np.nan\n",
        "data_missing.loc[7, 'department'] = np.nan\n",
        "\n",
        "print(\"DataFrame with missing values:\")\n",
        "print(data_missing.head(8))\n",
        "\n",
        "# Check for missing values\n",
        "print(\"\\nMissing value count by column:\")\n",
        "print(data_missing.isna().sum())\n",
        "\n",
        "# Drop rows with missing values\n",
        "print(\"\\nDrop rows with any missing values:\")\n",
        "print(data_missing.dropna().shape)\n",
        "\n",
        "# Fill missing values\n",
        "print(\"\\nFill missing numeric values with mean:\")\n",
        "numeric_cols = ['age', 'salary', 'performance_score']\n",
        "data_filled = data_missing.copy()\n",
        "for col in numeric_cols:\n",
        "    data_filled[col] = data_filled[col].fillna(data_filled[col].mean())\n",
        "\n",
        "print(data_filled[['name', 'age', 'salary', 'performance_score']].head(8))\n",
        "\n",
        "# Fill categorical missing values\n",
        "print(\"\\nFill missing categorical values with mode:\")\n",
        "data_filled['department'] = data_filled['department'].fillna(data_filled['department'].mode()[0])\n",
        "print(data_filled[['name', 'department']].head(8))\n"
      ]
    },
    {
      "cell_type": "raw",
      "metadata": {
        "vscode": {
          "languageId": "raw"
        }
      },
      "source": [
        "## Data Visualization with Pandas\n"
      ]
    },
    {
      "cell_type": "code",
      "execution_count": null,
      "metadata": {},
      "outputs": [],
      "source": [
        "# Basic visualizations with pandas\n",
        "\n",
        "# Bar chart of average salary by department\n",
        "plt.figure(figsize=(10, 6))\n",
        "df.groupby('department')['salary'].mean().plot(kind='bar', color='skyblue')\n",
        "plt.title('Average Salary by Department')\n",
        "plt.xlabel('Department')\n",
        "plt.ylabel('Average Salary ($)')\n",
        "plt.xticks(rotation=0)\n",
        "plt.grid(axis='y', linestyle='--', alpha=0.7)\n",
        "plt.show()\n",
        "\n",
        "# Histogram of ages\n",
        "plt.figure(figsize=(10, 6))\n",
        "df['age'].plot(kind='hist', bins=10, color='lightgreen', edgecolor='black')\n",
        "plt.title('Distribution of Employee Ages')\n",
        "plt.xlabel('Age')\n",
        "plt.ylabel('Frequency')\n",
        "plt.grid(axis='y', linestyle='--', alpha=0.7)\n",
        "plt.show()\n",
        "\n",
        "# Scatter plot of age vs. salary with department color coding\n",
        "plt.figure(figsize=(10, 6))\n",
        "for dept, group in df.groupby('department'):\n",
        "    plt.scatter(group['age'], group['salary'], label=dept, alpha=0.7)\n",
        "plt.title('Age vs. Salary by Department')\n",
        "plt.xlabel('Age')\n",
        "plt.ylabel('Salary ($)')\n",
        "plt.legend()\n",
        "plt.grid(True, linestyle='--', alpha=0.7)\n",
        "plt.show()\n",
        "\n",
        "# Box plot of performance scores by department\n",
        "plt.figure(figsize=(10, 6))\n",
        "sns.boxplot(x='department', y='performance_score', data=df)\n",
        "plt.title('Performance Score Distribution by Department')\n",
        "plt.xlabel('Department')\n",
        "plt.ylabel('Performance Score')\n",
        "plt.grid(axis='y', linestyle='--', alpha=0.7)\n",
        "plt.show()\n"
      ]
    },
    {
      "cell_type": "raw",
      "metadata": {
        "vscode": {
          "languageId": "raw"
        }
      },
      "source": [
        "## Summary\n",
        "\n",
        "In this notebook, I've learned and practiced:\n",
        "\n",
        "1. Creating and manipulating pandas Series and DataFrames\n",
        "2. Loading data from CSV files and inspecting its structure\n",
        "3. Basic data manipulation operations (filtering, sorting)\n",
        "4. Data transformation and aggregation techniques\n",
        "5. Handling missing values through detection and imputation\n",
        "6. Creating basic visualizations with pandas\n",
        "\n",
        "These skills will be essential for the data preprocessing and exploratory data analysis tasks that will follow in the coming days.\n"
      ]
    }
  ],
  "metadata": {
    "language_info": {
      "name": "python"
    }
  },
  "nbformat": 4,
  "nbformat_minor": 2
}
