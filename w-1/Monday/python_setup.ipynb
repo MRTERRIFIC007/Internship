{
  "cells": [
    {
      "cell_type": "raw",
      "metadata": {
        "vscode": {
          "languageId": "raw"
        }
      },
      "source": [
        "# Python for Data Science Setup\n",
        "\n",
        "This notebook documents my setup process for the data science environment and essential libraries.\n"
      ]
    },
    {
      "cell_type": "code",
      "execution_count": null,
      "metadata": {},
      "outputs": [],
      "source": [
        "# Check Python version\n",
        "import sys\n",
        "print(f\"Python version: {sys.version}\")\n",
        "\n",
        "# Check working directory\n",
        "import os\n",
        "print(f\"Current working directory: {os.getcwd()}\")\n"
      ]
    },
    {
      "cell_type": "raw",
      "metadata": {
        "vscode": {
          "languageId": "raw"
        }
      },
      "source": [
        "## Installing and Importing Essential Libraries\n",
        "\n",
        "Below I'll install and import the core data science libraries we'll be using throughout the internship.\n"
      ]
    },
    {
      "cell_type": "code",
      "execution_count": null,
      "metadata": {},
      "outputs": [],
      "source": [
        "# Uncomment to install libraries if not already installed\n",
        "# !pip install numpy pandas matplotlib seaborn scikit-learn jupyter\n",
        "\n",
        "# Import essential libraries\n",
        "import numpy as np\n",
        "import pandas as pd\n",
        "import matplotlib.pyplot as plt\n",
        "import seaborn as sns\n",
        "\n",
        "# Configure visualization settings\n",
        "%matplotlib inline\n",
        "plt.style.use('seaborn-whitegrid')\n",
        "sns.set_style(\"whitegrid\")\n",
        "\n",
        "print(\"Libraries imported successfully!\")\n"
      ]
    },
    {
      "cell_type": "raw",
      "metadata": {
        "vscode": {
          "languageId": "raw"
        }
      },
      "source": [
        "## Testing Library Functionality\n",
        "\n",
        "Let's create some simple examples to verify our libraries are working properly.\n"
      ]
    },
    {
      "cell_type": "code",
      "execution_count": null,
      "metadata": {},
      "outputs": [],
      "source": [
        "# NumPy test\n",
        "print(\"NumPy test:\")\n",
        "arr = np.array([1, 2, 3, 4, 5])\n",
        "print(f\"Array: {arr}\")\n",
        "print(f\"Mean: {np.mean(arr)}\")\n",
        "print(f\"Standard deviation: {np.std(arr)}\")\n",
        "print(f\"Array shape: {arr.shape}\")\n",
        "print()\n",
        "\n",
        "# Pandas test\n",
        "print(\"Pandas test:\")\n",
        "data = {'Name': ['John', 'Anna', 'Peter', 'Linda'],\n",
        "        'Age': [28, 34, 29, 42],\n",
        "        'City': ['New York', 'Paris', 'Berlin', 'London']}\n",
        "df = pd.DataFrame(data)\n",
        "print(df)\n",
        "print()\n"
      ]
    },
    {
      "cell_type": "code",
      "execution_count": null,
      "metadata": {},
      "outputs": [],
      "source": [
        "# Matplotlib and Seaborn test\n",
        "print(\"Visualization test:\")\n",
        "\n",
        "plt.figure(figsize=(12, 5))\n",
        "\n",
        "# Matplotlib subplot\n",
        "plt.subplot(1, 2, 1)\n",
        "plt.plot(arr, 'o-', color='blue')\n",
        "plt.title('Matplotlib Line Plot')\n",
        "plt.xlabel('Index')\n",
        "plt.ylabel('Value')\n",
        "plt.grid(True)\n",
        "\n",
        "# Seaborn subplot\n",
        "plt.subplot(1, 2, 2)\n",
        "sns.barplot(x='Name', y='Age', data=df)\n",
        "plt.title('Seaborn Bar Plot')\n",
        "plt.xlabel('Name')\n",
        "plt.ylabel('Age')\n",
        "\n",
        "plt.tight_layout()\n",
        "plt.show()\n"
      ]
    },
    {
      "cell_type": "raw",
      "metadata": {
        "vscode": {
          "languageId": "raw"
        }
      },
      "source": [
        "## Git Version Control Setup\n",
        "\n",
        "Basic Git commands for version control:\n"
      ]
    },
    {
      "cell_type": "code",
      "execution_count": null,
      "metadata": {},
      "outputs": [],
      "source": [
        "'''\n",
        "# Initialize a Git repository\n",
        "git init\n",
        "\n",
        "# Check status of your files\n",
        "git status\n",
        "\n",
        "# Add files to staging area\n",
        "git add <filename>\n",
        "git add .  # Add all files\n",
        "\n",
        "# Commit changes\n",
        "git commit -m \"Your commit message\"\n",
        "\n",
        "# Create a new branch\n",
        "git branch <branch-name>\n",
        "\n",
        "# Switch to a branch\n",
        "git checkout <branch-name>\n",
        "\n",
        "# Create and switch to a new branch\n",
        "git checkout -b <branch-name>\n",
        "\n",
        "# Pull changes from remote repository\n",
        "git pull origin <branch-name>\n",
        "\n",
        "# Push changes to remote repository\n",
        "git push origin <branch-name>\n",
        "\n",
        "# View commit history\n",
        "git log\n",
        "'''\n",
        "\n",
        "print(\"Git commands ready for reference!\")\n"
      ]
    },
    {
      "cell_type": "raw",
      "metadata": {
        "vscode": {
          "languageId": "raw"
        }
      },
      "source": [
        "## Summary\n",
        "\n",
        "Today I successfully:\n",
        "1. Set up Python environment with Anaconda/Miniconda\n",
        "2. Installed and tested essential data science libraries\n",
        "3. Configured Jupyter Notebook environment\n",
        "4. Learned basic Git commands for version control\n",
        "\n",
        "Tomorrow I'll focus on data cleaning techniques and exploratory data analysis.\n"
      ]
    }
  ],
  "metadata": {
    "language_info": {
      "name": "python"
    }
  },
  "nbformat": 4,
  "nbformat_minor": 2
}
